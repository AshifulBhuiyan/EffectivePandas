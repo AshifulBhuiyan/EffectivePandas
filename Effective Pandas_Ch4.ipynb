{
 "cells": [
  {
   "cell_type": "markdown",
   "id": "a383aaec",
   "metadata": {},
   "source": [
    "# Making a Series with Python\n",
    "   "
   ]
  },
  {
   "cell_type": "code",
   "execution_count": 7,
   "id": "9cda3124",
   "metadata": {},
   "outputs": [],
   "source": [
    "series = {\n",
    "    'index':[0, 1, 2, 3,],\n",
    "    'data':[145, 142, 38, 13],\n",
    "    'name':'songs'\n",
    "}"
   ]
  },
  {
   "cell_type": "code",
   "execution_count": 10,
   "id": "ff835d5e",
   "metadata": {},
   "outputs": [],
   "source": [
    "def get(series, idx):\n",
    "    value_idx = series['index'].index(idx)\n",
    "    return series['data'][value_idx]"
   ]
  },
  {
   "cell_type": "code",
   "execution_count": 11,
   "id": "59a77a15",
   "metadata": {},
   "outputs": [
    {
     "data": {
      "text/plain": [
       "142"
      ]
     },
     "execution_count": 11,
     "metadata": {},
     "output_type": "execute_result"
    }
   ],
   "source": [
    "get(series, 1)"
   ]
  },
  {
   "cell_type": "code",
   "execution_count": 12,
   "id": "c79478bb",
   "metadata": {},
   "outputs": [],
   "source": [
    "songs = {\n",
    "    'index':['Paul', 'John', 'George', 'Ringo'],\n",
    "    'data' :[2, 4, 6, 54],\n",
    "    'name' :'counts'\n",
    "}"
   ]
  },
  {
   "cell_type": "code",
   "execution_count": 13,
   "id": "9fbb3293",
   "metadata": {},
   "outputs": [
    {
     "data": {
      "text/plain": [
       "4"
      ]
     },
     "execution_count": 13,
     "metadata": {},
     "output_type": "execute_result"
    }
   ],
   "source": [
    "get(songs, 'John')"
   ]
  },
  {
   "cell_type": "markdown",
   "id": "9b171eb4",
   "metadata": {},
   "source": [
    "# The pandas Series"
   ]
  },
  {
   "cell_type": "code",
   "execution_count": 1,
   "id": "a24e681e",
   "metadata": {},
   "outputs": [],
   "source": [
    "import pandas as pd"
   ]
  },
  {
   "cell_type": "code",
   "execution_count": 2,
   "id": "04a5b168",
   "metadata": {},
   "outputs": [],
   "source": [
    "songs2 = pd.Series([145, 142, 38,13],\n",
    "                  name='counts')"
   ]
  },
  {
   "cell_type": "code",
   "execution_count": 3,
   "id": "400d3c10",
   "metadata": {},
   "outputs": [
    {
     "data": {
      "text/plain": [
       "0    145\n",
       "1    142\n",
       "2     38\n",
       "3     13\n",
       "Name: counts, dtype: int64"
      ]
     },
     "execution_count": 3,
     "metadata": {},
     "output_type": "execute_result"
    }
   ],
   "source": [
    "songs2"
   ]
  },
  {
   "cell_type": "code",
   "execution_count": 11,
   "id": "b3fd70a0",
   "metadata": {},
   "outputs": [],
   "source": [
    "songs3 = pd.Series([145, 142, 38,13],\n",
    "                  name='counts',\n",
    "                  index=['P','J','G','Ringo'])"
   ]
  },
  {
   "cell_type": "code",
   "execution_count": 12,
   "id": "8abdd579",
   "metadata": {},
   "outputs": [
    {
     "data": {
      "text/plain": [
       "P        145\n",
       "J        142\n",
       "G         38\n",
       "Ringo     13\n",
       "Name: counts, dtype: int64"
      ]
     },
     "execution_count": 12,
     "metadata": {},
     "output_type": "execute_result"
    }
   ],
   "source": [
    "songs3"
   ]
  },
  {
   "cell_type": "code",
   "execution_count": 13,
   "id": "fe9ece29",
   "metadata": {},
   "outputs": [],
   "source": [
    "class Foo:\n",
    "    pass"
   ]
  },
  {
   "cell_type": "code",
   "execution_count": 15,
   "id": "853eb560",
   "metadata": {},
   "outputs": [],
   "source": [
    "ringo = pd.Series(\n",
    "    ['Richard','Starkey', 13, Foo()],\n",
    "    name='ringo')"
   ]
  },
  {
   "cell_type": "code",
   "execution_count": 16,
   "id": "6887de87",
   "metadata": {},
   "outputs": [
    {
     "data": {
      "text/plain": [
       "0                                    Richard\n",
       "1                                    Starkey\n",
       "2                                         13\n",
       "3    <__main__.Foo object at 0x7f4b8b5d87b8>\n",
       "Name: ringo, dtype: object"
      ]
     },
     "execution_count": 16,
     "metadata": {},
     "output_type": "execute_result"
    }
   ],
   "source": [
    "ringo"
   ]
  },
  {
   "cell_type": "markdown",
   "id": "76f358f9",
   "metadata": {},
   "source": [
    "# Similar to NumPy\n",
    "Series object behaves similarly to a NumPy arrary"
   ]
  },
  {
   "cell_type": "code",
   "execution_count": 17,
   "id": "e8befbb3",
   "metadata": {},
   "outputs": [],
   "source": [
    "import numpy as np"
   ]
  },
  {
   "cell_type": "code",
   "execution_count": 18,
   "id": "30cf97dc",
   "metadata": {},
   "outputs": [],
   "source": [
    "numpy_ser = np.array([145, 142, 38, 13])"
   ]
  },
  {
   "cell_type": "code",
   "execution_count": 19,
   "id": "508302fe",
   "metadata": {},
   "outputs": [
    {
     "data": {
      "text/plain": [
       "142"
      ]
     },
     "execution_count": 19,
     "metadata": {},
     "output_type": "execute_result"
    }
   ],
   "source": [
    "songs3[1]"
   ]
  },
  {
   "cell_type": "code",
   "execution_count": 20,
   "id": "7c0c3e0b",
   "metadata": {},
   "outputs": [
    {
     "data": {
      "text/plain": [
       "142"
      ]
     },
     "execution_count": 20,
     "metadata": {},
     "output_type": "execute_result"
    }
   ],
   "source": [
    "numpy_ser[1]"
   ]
  },
  {
   "cell_type": "code",
   "execution_count": 23,
   "id": "284ccc46",
   "metadata": {},
   "outputs": [
    {
     "data": {
      "text/plain": [
       "84.5"
      ]
     },
     "execution_count": 23,
     "metadata": {},
     "output_type": "execute_result"
    }
   ],
   "source": [
    "songs3.mean()"
   ]
  },
  {
   "cell_type": "code",
   "execution_count": 22,
   "id": "3ae48ad2",
   "metadata": {},
   "outputs": [
    {
     "data": {
      "text/plain": [
       "84.5"
      ]
     },
     "execution_count": 22,
     "metadata": {},
     "output_type": "execute_result"
    }
   ],
   "source": [
    "numpy_ser.mean()"
   ]
  },
  {
   "cell_type": "markdown",
   "id": "bc79ee4a",
   "metadata": {},
   "source": [
    "Both have notion of Boolean array. A boolean array is a series with the same index as the series you are working with that has boolean values, and it can be used as a mask to filter out items. Normal Python lists do not support such fancy index operations, like stikcing a list into an index operation.\n",
    "\n",
    "Here we make a mask:"
   ]
  },
  {
   "cell_type": "code",
   "execution_count": 26,
   "id": "f1917995",
   "metadata": {},
   "outputs": [],
   "source": [
    "mask = songs3 > songs3.median() #boolean array"
   ]
  },
  {
   "cell_type": "code",
   "execution_count": 27,
   "id": "2a36cbfd",
   "metadata": {},
   "outputs": [
    {
     "data": {
      "text/plain": [
       "P         True\n",
       "J         True\n",
       "G        False\n",
       "Ringo    False\n",
       "Name: counts, dtype: bool"
      ]
     },
     "execution_count": 27,
     "metadata": {},
     "output_type": "execute_result"
    }
   ],
   "source": [
    "mask"
   ]
  },
  {
   "cell_type": "markdown",
   "id": "77a931d5",
   "metadata": {},
   "source": [
    "NumPy also has filtering by boolean arrays, but lacks `.median` method on an array."
   ]
  },
  {
   "cell_type": "markdown",
   "id": "d1bc2857",
   "metadata": {},
   "source": [
    "# Categorical Data\n",
    "if we know data is limited to few values, can use categorical data\n",
    "## Benefits\n",
    "- use less memory than strings\n",
    "- improve performance\n",
    "- can have ordering\n",
    "- can perform operations on categories\n",
    "- enforce membership on values\n",
    "\n",
    "To create we can pass `dtype=\"category\"` into the series constructor or can call the `.astype(\"category\")` method on a series:"
   ]
  },
  {
   "cell_type": "code",
   "execution_count": 28,
   "id": "e634a960",
   "metadata": {},
   "outputs": [],
   "source": [
    "s = pd.Series(['m','l','xs','s','xl'], dtype='category')"
   ]
  },
  {
   "cell_type": "code",
   "execution_count": 29,
   "id": "0e3bd07a",
   "metadata": {},
   "outputs": [
    {
     "data": {
      "text/plain": [
       "0     m\n",
       "1     l\n",
       "2    xs\n",
       "3     s\n",
       "4    xl\n",
       "dtype: category\n",
       "Categories (5, object): ['l', 'm', 's', 'xl', 'xs']"
      ]
     },
     "execution_count": 29,
     "metadata": {},
     "output_type": "execute_result"
    }
   ],
   "source": [
    "s"
   ]
  },
  {
   "cell_type": "markdown",
   "id": "f0c56023",
   "metadata": {},
   "source": [
    "If this series represents the size, there is a natural ordering from smallest to largest. By default, categories don't have an ordering. We can verify by inspecting the $\\color{blue}{.cat}$ attribute"
   ]
  },
  {
   "cell_type": "code",
   "execution_count": 30,
   "id": "641c7945",
   "metadata": {},
   "outputs": [
    {
     "data": {
      "text/plain": [
       "False"
      ]
     },
     "execution_count": 30,
     "metadata": {},
     "output_type": "execute_result"
    }
   ],
   "source": [
    "s.cat.ordered"
   ]
  },
  {
   "cell_type": "markdown",
   "id": "46a29c78",
   "metadata": {},
   "source": [
    "To convert a non-categorical series to an ordered category, can create a type with the `CategoricalDtype` constructor and appropriate parameters. Then pass the type into the `.astype` method:"
   ]
  },
  {
   "cell_type": "code",
   "execution_count": 43,
   "id": "bcc3a963",
   "metadata": {},
   "outputs": [],
   "source": [
    "s2 = pd . Series ([ 'm' , 'l' , 'xs', 's', 'xl'])"
   ]
  },
  {
   "cell_type": "code",
   "execution_count": 44,
   "id": "15cc52b2",
   "metadata": {},
   "outputs": [],
   "source": [
    "size_type = pd.api.types.CategoricalDtype (\n",
    "    categories=['s','m','l'], ordered=True)"
   ]
  },
  {
   "cell_type": "code",
   "execution_count": 45,
   "id": "2c6e864a",
   "metadata": {},
   "outputs": [],
   "source": [
    "s3 =s2.astype(size_type)"
   ]
  },
  {
   "cell_type": "code",
   "execution_count": 46,
   "id": "ffad2f5f",
   "metadata": {},
   "outputs": [
    {
     "data": {
      "text/plain": [
       "0      m\n",
       "1      l\n",
       "2    NaN\n",
       "3      s\n",
       "4    NaN\n",
       "dtype: category\n",
       "Categories (3, object): ['s' < 'm' < 'l']"
      ]
     },
     "execution_count": 46,
     "metadata": {},
     "output_type": "execute_result"
    }
   ],
   "source": [
    "s3"
   ]
  },
  {
   "cell_type": "code",
   "execution_count": 47,
   "id": "0ec126b3",
   "metadata": {},
   "outputs": [
    {
     "data": {
      "text/plain": [
       "0     True\n",
       "1     True\n",
       "2    False\n",
       "3    False\n",
       "4    False\n",
       "dtype: bool"
      ]
     },
     "execution_count": 47,
     "metadata": {},
     "output_type": "execute_result"
    }
   ],
   "source": [
    "s3 > 's'"
   ]
  },
  {
   "cell_type": "code",
   "execution_count": 48,
   "id": "28af5ffd",
   "metadata": {},
   "outputs": [
    {
     "data": {
      "text/plain": [
       "0     m\n",
       "1     l\n",
       "2    xs\n",
       "3     s\n",
       "4    xl\n",
       "dtype: category\n",
       "Categories (5, object): ['xs' < 's' < 'm' < 'l' < 'xl']"
      ]
     },
     "execution_count": 48,
     "metadata": {},
     "output_type": "execute_result"
    }
   ],
   "source": [
    "s.cat.reorder_categories(['xs', 's','m','l','xl'],\n",
    "                         ordered=True)"
   ]
  },
  {
   "cell_type": "markdown",
   "id": "0f31752a",
   "metadata": {},
   "source": [
    "String and datetime series have a \n",
    "`str` and `dt` attributes. If we convert to categorical types, can still use `str` or `dt` attributes on them:"
   ]
  },
  {
   "cell_type": "code",
   "execution_count": 51,
   "id": "636ad9b3",
   "metadata": {},
   "outputs": [
    {
     "data": {
      "text/plain": [
       "0      M\n",
       "1      L\n",
       "2    NaN\n",
       "3      S\n",
       "4    NaN\n",
       "dtype: object"
      ]
     },
     "execution_count": 51,
     "metadata": {},
     "output_type": "execute_result"
    }
   ],
   "source": [
    "s3.str.upper()"
   ]
  },
  {
   "cell_type": "code",
   "execution_count": 52,
   "id": "3b311fd8",
   "metadata": {},
   "outputs": [
    {
     "data": {
      "text/plain": [
       "0     M\n",
       "1     L\n",
       "2    XS\n",
       "3     S\n",
       "4    XL\n",
       "dtype: object"
      ]
     },
     "execution_count": 52,
     "metadata": {},
     "output_type": "execute_result"
    }
   ],
   "source": [
    "s.str.upper()"
   ]
  },
  {
   "cell_type": "markdown",
   "id": "b80d39a4",
   "metadata": {},
   "source": [
    "# Summary \n",
    "*Method*|*Description*\n",
    ":---|:---\n",
    "`pd.Series(data=None, index=None, dtype=None,name=None, copy=False)`|Create a series from data (sequence, dictionary, or scalar).\n",
    "`s.index`|Access index of series.\n",
    "`s.astype(dtype, errors='raise')`|Cast a series to dtype. To ignore errors (and return original object) use errors='ignore'.\n",
    "`s[boolean_array]`| Return values from s where boolean_array is True.\n",
    "`s.cat.ordered`|Determine if a categorical series is ordered.\n",
    "`s.cat.reorder_categories(new_categories, ordered=False)`| Add categories (potentially ordered) to the series. `new_categories` must include all categories."
   ]
  }
 ],
 "metadata": {
  "kernelspec": {
   "display_name": "Python 3 (ipykernel)",
   "language": "python",
   "name": "python3"
  },
  "language_info": {
   "codemirror_mode": {
    "name": "ipython",
    "version": 3
   },
   "file_extension": ".py",
   "mimetype": "text/x-python",
   "name": "python",
   "nbconvert_exporter": "python",
   "pygments_lexer": "ipython3",
   "version": "3.10.6"
  }
 },
 "nbformat": 4,
 "nbformat_minor": 5
}
