{
 "cells": [
  {
   "cell_type": "code",
   "execution_count": 1,
   "metadata": {},
   "outputs": [],
   "source": [
    "import pandas as pd"
   ]
  },
  {
   "attachments": {},
   "cell_type": "markdown",
   "metadata": {},
   "source": [
    "# Operators and Dunder Methods\n",
    "- protocols that determine how Python langague reacts to operations\n",
    "- for example when you use + operation, Python is dispatching to the `.__add__` method. \n",
    "- when you use a loop with a for statement, Python dispatches to the `.__iter__` method.\n",
    "- dunder=double underscore"
   ]
  },
  {
   "cell_type": "code",
   "execution_count": 2,
   "metadata": {},
   "outputs": [
    {
     "data": {
      "text/plain": [
       "6"
      ]
     },
     "execution_count": 2,
     "metadata": {},
     "output_type": "execute_result"
    }
   ],
   "source": [
    "2+4"
   ]
  },
  {
   "cell_type": "code",
   "execution_count": 4,
   "metadata": {},
   "outputs": [
    {
     "data": {
      "text/plain": [
       "6"
      ]
     },
     "execution_count": 4,
     "metadata": {},
     "output_type": "execute_result"
    }
   ],
   "source": [
    "(2).__add__(4)"
   ]
  },
  {
   "cell_type": "code",
   "execution_count": 5,
   "metadata": {},
   "outputs": [],
   "source": [
    "url = 'https://github.com/mattharrison/datasets/raw/master/data/vehicles.csv.zip'\n",
    "df=pd.read_csv(url)\n",
    "city_mpg = df.city08\n",
    "highway_mpg = df.highway08"
   ]
  },
  {
   "attachments": {},
   "cell_type": "markdown",
   "metadata": {},
   "source": [
    "One way to calculate average of two series:"
   ]
  },
  {
   "cell_type": "code",
   "execution_count": 10,
   "metadata": {},
   "outputs": [
    {
     "data": {
      "text/plain": [
       "0        22.0\n",
       "1        11.5\n",
       "2        28.0\n",
       "3        11.0\n",
       "4        20.0\n",
       "         ... \n",
       "41139    22.5\n",
       "41140    24.0\n",
       "41141    21.0\n",
       "41142    21.0\n",
       "41143    18.5\n",
       "Length: 41144, dtype: float64"
      ]
     },
     "execution_count": 10,
     "metadata": {},
     "output_type": "execute_result"
    }
   ],
   "source": [
    "(city_mpg + highway_mpg)/2"
   ]
  },
  {
   "attachments": {},
   "cell_type": "markdown",
   "metadata": {},
   "source": [
    "## 6.3 Index Alignment\n",
    "You can apply most math operations on a series with another series, and can also use a scalar. \n",
    "\n",
    "When you operate with two series, pandas will *align* the index before performing the operation.\n",
    "\n",
    "Aligning will take each index entry in the left series and match it up with every entry with the same name in the index of the right series.\n",
    "\n",
    "Because of infex alignment, you will want to make sure that the indexes:\n",
    "- are unique (no dupes)\n",
    "- common to both series"
   ]
  },
  {
   "attachments": {},
   "cell_type": "markdown",
   "metadata": {},
   "source": [
    "Example of two series with repeated index entries as well as non-common entries:"
   ]
  },
  {
   "cell_type": "code",
   "execution_count": 11,
   "metadata": {},
   "outputs": [],
   "source": [
    "s1 = pd.Series([10,20,30], index=[1,2,2])"
   ]
  },
  {
   "cell_type": "code",
   "execution_count": 13,
   "metadata": {},
   "outputs": [],
   "source": [
    "s2 = pd.Series([35,44,53], index=[2,2,4], name='s2')"
   ]
  },
  {
   "cell_type": "code",
   "execution_count": 14,
   "metadata": {},
   "outputs": [
    {
     "data": {
      "text/plain": [
       "1    10\n",
       "2    20\n",
       "2    30\n",
       "dtype: int64"
      ]
     },
     "execution_count": 14,
     "metadata": {},
     "output_type": "execute_result"
    }
   ],
   "source": [
    "s1"
   ]
  },
  {
   "cell_type": "code",
   "execution_count": 15,
   "metadata": {},
   "outputs": [
    {
     "data": {
      "text/plain": [
       "2    35\n",
       "2    44\n",
       "4    53\n",
       "Name: s2, dtype: int64"
      ]
     },
     "execution_count": 15,
     "metadata": {},
     "output_type": "execute_result"
    }
   ],
   "source": [
    "s2"
   ]
  },
  {
   "cell_type": "code",
   "execution_count": 16,
   "metadata": {},
   "outputs": [
    {
     "data": {
      "text/plain": [
       "1     NaN\n",
       "2    55.0\n",
       "2    64.0\n",
       "2    65.0\n",
       "2    74.0\n",
       "4     NaN\n",
       "dtype: float64"
      ]
     },
     "execution_count": 16,
     "metadata": {},
     "output_type": "execute_result"
    }
   ],
   "source": [
    "s1+s2"
   ]
  },
  {
   "attachments": {},
   "cell_type": "markdown",
   "metadata": {},
   "source": [
    "## 6.4 Broadcasting\n",
    "- when you perform math operations with a scalar, pandas *broadcasts* the operation to all values\n",
    "- for broadcasting, math oeprations are optimized and happen quickly in CPU. This is called *vectorization*\n",
    "- a numeric pandas series is a block of memory, and modern CPU leverage a technology called Single Instruction/Multiple Data (SIMBD) to apply a math operation to the block memory\n",
    "- operations that are also avaliable include: +, -, /, // (floor division), % (modulus), @ (matrix multiplication), ** (power), <,>, <=,>=, ==, !=, & (binary xor), | (binary or)."
   ]
  },
  {
   "attachments": {},
   "cell_type": "markdown",
   "metadata": {},
   "source": [
    "## 6.5 Iteration\n",
    "\n",
    "Note that there is also a `.__iter__` method on a series, and you can loop over the items in a series. But, recommended to avoid using a `for` loop with a series.If you use a loop to search or filter for values, we will see that there are other ways that are faster and make code easier to understand\n"
   ]
  },
  {
   "attachments": {},
   "cell_type": "markdown",
   "metadata": {},
   "source": [
    "## 6.6 Operator Methods\n",
    "pandas provides methods for standard operators to allow you to *parameterize* or change the behavior based on the parameters\n",
    "- the dunder methods generally fill in NaN when one of the operands is missing following index alignment\n",
    "- the operator methods have a `fill_value` parameter that changes this behavior.\n",
    "- if one of the operands is missing, it will use the `fill_value` instead\n"
   ]
  },
  {
   "attachments": {},
   "cell_type": "markdown",
   "metadata": {},
   "source": [
    "If we call `.add` method with default parameters, we will have same result as + operator:\n"
   ]
  },
  {
   "cell_type": "code",
   "execution_count": 17,
   "metadata": {},
   "outputs": [
    {
     "data": {
      "text/plain": [
       "1     NaN\n",
       "2    55.0\n",
       "2    64.0\n",
       "2    65.0\n",
       "2    74.0\n",
       "4     NaN\n",
       "dtype: float64"
      ]
     },
     "execution_count": 17,
     "metadata": {},
     "output_type": "execute_result"
    }
   ],
   "source": [
    "s1+s2"
   ]
  },
  {
   "cell_type": "code",
   "execution_count": 18,
   "metadata": {},
   "outputs": [
    {
     "data": {
      "text/plain": [
       "1     NaN\n",
       "2    55.0\n",
       "2    64.0\n",
       "2    65.0\n",
       "2    74.0\n",
       "4     NaN\n",
       "dtype: float64"
      ]
     },
     "execution_count": 18,
     "metadata": {},
     "output_type": "execute_result"
    }
   ],
   "source": [
    "s1.add(s2)"
   ]
  },
  {
   "attachments": {},
   "cell_type": "markdown",
   "metadata": {},
   "source": [
    "However, we can use `fill_value` parameter to specify that we use zero instead:"
   ]
  },
  {
   "cell_type": "code",
   "execution_count": 19,
   "metadata": {},
   "outputs": [
    {
     "data": {
      "text/plain": [
       "1    10.0\n",
       "2    55.0\n",
       "2    64.0\n",
       "2    65.0\n",
       "2    74.0\n",
       "4    53.0\n",
       "dtype: float64"
      ]
     },
     "execution_count": 19,
     "metadata": {},
     "output_type": "execute_result"
    }
   ],
   "source": [
    "s1.add(s2, fill_value=0)"
   ]
  },
  {
   "attachments": {},
   "cell_type": "markdown",
   "metadata": {},
   "source": [
    "## 6.7 Chaining\n",
    "- another stylistic reason to prefer the method to the operator is that it makes *chaining* manipulations easier.\n",
    "    - pandas methods do not mutate data in place but instead return new object\n",
    "    - allows us to keep tacking on method calls to the returned object"
   ]
  },
  {
   "cell_type": "code",
   "execution_count": 23,
   "metadata": {},
   "outputs": [
    {
     "data": {
      "text/plain": [
       "0        22.0\n",
       "1        11.5\n",
       "2        28.0\n",
       "3        11.0\n",
       "4        20.0\n",
       "         ... \n",
       "41139    22.5\n",
       "41140    24.0\n",
       "41141    21.0\n",
       "41142    21.0\n",
       "41143    18.5\n",
       "Length: 41144, dtype: float64"
      ]
     },
     "execution_count": 23,
     "metadata": {},
     "output_type": "execute_result"
    }
   ],
   "source": [
    "((city_mpg \n",
    "  + highway_mpg)\n",
    "  /2\n",
    "  )"
   ]
  },
  {
   "cell_type": "code",
   "execution_count": 21,
   "metadata": {},
   "outputs": [
    {
     "data": {
      "text/plain": [
       "0        22.0\n",
       "1        11.5\n",
       "2        28.0\n",
       "3        11.0\n",
       "4        20.0\n",
       "         ... \n",
       "41139    22.5\n",
       "41140    24.0\n",
       "41141    21.0\n",
       "41142    21.0\n",
       "41143    18.5\n",
       "Length: 41144, dtype: float64"
      ]
     },
     "execution_count": 21,
     "metadata": {},
     "output_type": "execute_result"
    }
   ],
   "source": [
    "(city_mpg\n",
    " .add(highway_mpg)\n",
    " .div(2)\n",
    " )"
   ]
  },
  {
   "attachments": {},
   "cell_type": "markdown",
   "metadata": {},
   "source": [
    "# Summary \n",
    "*Method*|Operator|*Description*\n",
    ":---|---:|:---\n",
    "`s.add(s2)` | s+s2| adds series\n",
    "`s.radd(s2)` | s2+s| adds series\n",
    "`s.sub(s2)` | s-s2| subtracts series\n",
    "`s.rsub(S2)` | s2-s| subtracts series\n",
    "`s.mul(s2), s.multiply(s2)` | s*s2 | multiplies series\n",
    "`s.rmul(s2)` | s2*s |multiplies series\n",
    "`s.div(s2), s.truediv(s2)` | s/s2| divides series\n",
    "`s.rdiv(s2), s.rtruediv(s2)` | s2/s| divides series\n",
    "`s.mod(s2)` | s % s2 | modulo of series division\n",
    "`s.rmod(s2)` | s2 % s | modulo of series division\n",
    "`s.floordiv(s2)` | s // s2 | floor  divides series\n",
    "`s.rfloordiv(s2) `| s2 // s | floor  divides series\n",
    "`s.pow(s2)` | s**s2 | exponential power of series\n",
    "`s.rpow(s2)` | s2**s| exponential power of series\n",
    "`s.eq(s2)` | s==s2 | elementwise equals of series\n",
    "`s.ne(s2) `| s!=s2 | elementwise not equals of series\n",
    "`s.gt(s2)` | s>s2 | elementwise greater than of series\n",
    "`s.lt(s2)` | s<s2 | elementwise less than of series\n",
    "`s.ge(s2)` | s>=s2 | elementwise greater than or equal of series\n",
    "`s.le(s2)` | s<=s2 | elementwise less than or equal of series\n",
    "`np.invert(s)` | ~s | Elementwise inversion of boolean series (no pandas method)\n",
    "`np.logical_and(s, s2)` | s & s2 | Elementwise logical and of boolean series (no pandas)\n",
    "`np.logical_or(s, s2)` | s \\| s2 | Elementwise logical or of boolean series (no pandas)\n",
    "\n",
    "\n",
    "\n",
    "\n"
   ]
  },
  {
   "cell_type": "markdown",
   "metadata": {},
   "source": []
  },
  {
   "cell_type": "code",
   "execution_count": null,
   "metadata": {},
   "outputs": [],
   "source": []
  }
 ],
 "metadata": {
  "kernelspec": {
   "display_name": "Python 3 (ipykernel)",
   "language": "python",
   "name": "python3"
  },
  "language_info": {
   "codemirror_mode": {
    "name": "ipython",
    "version": 3
   },
   "file_extension": ".py",
   "mimetype": "text/x-python",
   "name": "python",
   "nbconvert_exporter": "python",
   "pygments_lexer": "ipython3",
   "version": "3.10.6"
  },
  "orig_nbformat": 4
 },
 "nbformat": 4,
 "nbformat_minor": 2
}
