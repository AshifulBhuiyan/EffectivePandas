{
 "cells": [
  {
   "cell_type": "code",
   "execution_count": 1,
   "metadata": {},
   "outputs": [],
   "source": [
    "import pandas as pd"
   ]
  },
  {
   "attachments": {},
   "cell_type": "markdown",
   "metadata": {},
   "source": [
    "# Aggregate Methods\n",
    "- collapses the value of a series down to a scalar\n",
    "- \"the numbers that ur boss wants to be reported\"\n",
    "- boss wouldn't care about fine details of what happened, instead whats important is:\n",
    "    - how many people came in (count)\n",
    "    - how much food was ordered (count)\n",
    "    - what was total revenue (sum)\n",
    "    - when did people come in (skew)\n",
    "    - what was the average purchase amount (mean)\n",
    "    "
   ]
  },
  {
   "cell_type": "code",
   "execution_count": 2,
   "metadata": {},
   "outputs": [
    {
     "name": "stderr",
     "output_type": "stream",
     "text": [
      "/tmp/ipykernel_19369/157388717.py:2: DtypeWarning: Columns (68,70,71,72,73,74,76,79) have mixed types. Specify dtype option on import or set low_memory=False.\n",
      "  df=pd.read_csv(url)\n"
     ]
    }
   ],
   "source": [
    "url = 'https://github.com/mattharrison/datasets/raw/master/data/vehicles.csv.zip'\n",
    "df=pd.read_csv(url)\n",
    "city_mpg = df.city08\n",
    "highway_mpg = df.highway08"
   ]
  },
  {
   "cell_type": "code",
   "execution_count": 3,
   "metadata": {},
   "outputs": [
    {
     "data": {
      "text/plain": [
       "18.369045304297103"
      ]
     },
     "execution_count": 3,
     "metadata": {},
     "output_type": "execute_result"
    }
   ],
   "source": [
    "city_mpg.mean()"
   ]
  },
  {
   "attachments": {},
   "cell_type": "markdown",
   "metadata": {},
   "source": [
    "There are also a few aggregate properties. These start with `.is_`. You do not call them; they will efvvaluate to `True` or `False`:"
   ]
  },
  {
   "cell_type": "code",
   "execution_count": 4,
   "metadata": {},
   "outputs": [
    {
     "data": {
      "text/plain": [
       "False"
      ]
     },
     "execution_count": 4,
     "metadata": {},
     "output_type": "execute_result"
    }
   ],
   "source": [
    "city_mpg.is_unique"
   ]
  },
  {
   "cell_type": "code",
   "execution_count": 5,
   "metadata": {},
   "outputs": [
    {
     "data": {
      "text/plain": [
       "False"
      ]
     },
     "execution_count": 5,
     "metadata": {},
     "output_type": "execute_result"
    }
   ],
   "source": [
    "city_mpg.is_monotonic_increasing"
   ]
  },
  {
   "attachments": {},
   "cell_type": "markdown",
   "metadata": {},
   "source": [
    "One method to be aware of is the `.quantile` method. By default, it returns the 50% quantile. You can specify another level, or can pass in a list of levels. In the latter case, result of calling it no longer returns a scalar but a Series object:"
   ]
  },
  {
   "cell_type": "code",
   "execution_count": 6,
   "metadata": {},
   "outputs": [
    {
     "data": {
      "text/plain": [
       "21.0"
      ]
     },
     "execution_count": 6,
     "metadata": {},
     "output_type": "execute_result"
    }
   ],
   "source": [
    "city_mpg.quantile(.8)"
   ]
  },
  {
   "cell_type": "code",
   "execution_count": 7,
   "metadata": {},
   "outputs": [
    {
     "data": {
      "text/plain": [
       "0.10    13.0\n",
       "0.80    21.0\n",
       "0.99    40.0\n",
       "Name: city08, dtype: float64"
      ]
     },
     "execution_count": 7,
     "metadata": {},
     "output_type": "execute_result"
    }
   ],
   "source": [
    "city_mpg.quantile([.1, .8, .99])"
   ]
  },
  {
   "attachments": {},
   "cell_type": "markdown",
   "metadata": {},
   "source": [
    "### Count and Mean of an Attribute\n",
    "- `.sum` method blah blah\n",
    "- count and percent of cars with mileage greater than 20:\n"
   ]
  },
  {
   "cell_type": "code",
   "execution_count": 8,
   "metadata": {},
   "outputs": [
    {
     "data": {
      "text/plain": [
       "10272"
      ]
     },
     "execution_count": 8,
     "metadata": {},
     "output_type": "execute_result"
    }
   ],
   "source": [
    "(city_mpg\n",
    " .gt(20) #greater than\n",
    " .sum()\n",
    " )\n"
   ]
  },
  {
   "attachments": {},
   "cell_type": "markdown",
   "metadata": {},
   "source": [
    "Percent of values that meet some criteria:"
   ]
  },
  {
   "cell_type": "code",
   "execution_count": 9,
   "metadata": {},
   "outputs": [
    {
     "data": {
      "text/plain": [
       "24.965973167412017"
      ]
     },
     "execution_count": 9,
     "metadata": {},
     "output_type": "execute_result"
    }
   ],
   "source": [
    "(city_mpg\n",
    " .gt(20)\n",
    " .mul(100) #multiply\n",
    " .mean()\n",
    " )"
   ]
  },
  {
   "attachments": {},
   "cell_type": "markdown",
   "metadata": {},
   "source": [
    "This trick comes from the fact that Python treats True as 1 and False as 0. (In earlier versions of\n",
    "the language, True and False did not exist, so programmers used 1 and 0 as stands ins for them). To\n",
    "maintain backward compatibility, the language maintained math operations on booleans. If you\n",
    "sum up a series of boolean values, the result is the count of True values. If you take the mean of a\n",
    "series of boolean values, the result is the fraction of values that are True. You can use this trick with\n",
    "any series of boolean values."
   ]
  },
  {
   "attachments": {},
   "cell_type": "markdown",
   "metadata": {},
   "source": [
    "### `.agg` and Aggregation Strings\n",
    "- can use `.agg` to calculate the mean:"
   ]
  },
  {
   "cell_type": "code",
   "execution_count": 10,
   "metadata": {},
   "outputs": [
    {
     "data": {
      "text/plain": [
       "18.369045304297103"
      ]
     },
     "execution_count": 10,
     "metadata": {},
     "output_type": "execute_result"
    }
   ],
   "source": [
    "city_mpg.agg('mean') 1. find count of non-missing entries of a series\n",
    "2. find the number of entries of a series\n",
    "3. find the number of unique entries of a series\n",
    "4. find the mean of a series\n",
    "5. find the max of a series\n",
    "6. use .agg method this time.\n",
    "#easier with city_mpg.mean(), where .agg shines is in the ability to perform mutiple aggregations"
   ]
  },
  {
   "cell_type": "code",
   "execution_count": 15,
   "metadata": {},
   "outputs": [],
   "source": [
    "import numpy as np\n",
    "def second_to_last(s):\n",
    "    return s.iloc[-2]"
   ]
  },
  {
   "cell_type": "code",
   "execution_count": 16,
   "metadata": {},
   "outputs": [
    {
     "data": {
      "text/plain": [
       "mean               18.369045\n",
       "var                62.503036\n",
       "max               150.000000\n",
       "second_to_last     18.000000\n",
       "Name: city08, dtype: float64"
      ]
     },
     "execution_count": 16,
     "metadata": {},
     "output_type": "execute_result"
    }
   ],
   "source": [
    "city_mpg.agg(['mean', np.var, max, second_to_last])"
   ]
  },
  {
   "cell_type": "code",
   "execution_count": 22,
   "metadata": {},
   "outputs": [],
   "source": [
    "ys=pd.Series([1,2,3,4])"
   ]
  },
  {
   "cell_type": "code",
   "execution_count": 24,
   "metadata": {},
   "outputs": [
    {
     "data": {
      "text/plain": [
       "3"
      ]
     },
     "execution_count": 24,
     "metadata": {},
     "output_type": "execute_result"
    }
   ],
   "source": [
    "second_to_last(ys)"
   ]
  },
  {
   "cell_type": "code",
   "execution_count": 29,
   "metadata": {},
   "outputs": [
    {
     "data": {
      "text/plain": [
       "3"
      ]
     },
     "execution_count": 29,
     "metadata": {},
     "output_type": "execute_result"
    }
   ],
   "source": [
    "ys.iloc[2]"
   ]
  },
  {
   "attachments": {},
   "cell_type": "markdown",
   "metadata": {},
   "source": [
    "*Method*|*Description*\n",
    ":---|:---\n",
    "`'all'` | Returns `True` if every value is truthy\n",
    "'any' | Returns True if any value is truthy\n",
    "autocorr | Returns Pearson correlation f series with sgifted self. CAn override `lag` as keyboard argument(default is 1).\n",
    "corr | Returns Pearson correlation of series with other series. Need to specify other.\n",
    "count | count of non missing values\n",
    "cov | covariance of series with another\n",
    "dtype | type of series\n",
    "dtypes | types of the series\n",
    "empty | true if no vcalues in series\n",
    "hasnans | true if missing values in series\n",
    "idxmax | returns index value of maximum value\n",
    "idxmin | index value of min value\n",
    "is_monotonic | true if always increasing\n",
    "is_monotonic_decreasing | decrease\n",
    "is_monotonic_increasing | increase\n",
    "kurt | return \"excess\" kurtosis (0 if normal distribution). Values greater than 0 have more outliers than normal\n",
    "'mad' | rteturn mean absolute deviation\n",
    "max | maximum value\n",
    "mean | mean\n",
    "median | median\n",
    "min | min\n",
    "nbytes | number of bytes of the data\n",
    "ndim | return the number of dimensions (1) of the data\n",
    "nunique | count of unique values\n",
    "quantile | return median value, can override q to specify other quantile\n",
    "sem | unbiased standard error\n",
    "size | size\n",
    "skew | unbiased skew of data, negative indicates tail is on the left side\n",
    "std | std\n",
    "sum | sum\n"
   ]
  },
  {
   "attachments": {},
   "cell_type": "markdown",
   "metadata": {},
   "source": [
    "*Method*|*Description*\n",
    ":---|:---\n",
    "`s.agg(func= None, axis=0, *args, **kwargs)` | Returns a scalar if func is a single aggregation function. Returns a series if a list of aggregations are passed to func\n",
    "`s.all(axis=0, bool_only=None, skipna=True, level=None)` | Returns true if every value is truthy, otherwise false\n",
    "s.any(axis=0, bool_only=None, skipna=True, level=None) | returns true if at least one if truthy\n",
    "s.autocorr(lag=1) | returns Pearson correlation between s and shifted s\n",
    "s.corr(other, method='[pearson')]) | returns correlation coefficient for `'pearson', 'spearman','kendall'`, or a callabe.\n",
    "s.cov(other, min_periods=None) | returns cov\n",
    "s.max(axis=None, skipna=None, level=None,numeric_only=None) |  returns max\n",
    "s.mean(...), median, prod, min | neat\n",
    "s.quantile(q=.5, interpolation='linear')| returns 50% quantile by default, returns Series if q is a list\n",
    "s.sem(axis=None, skipna=None, level=None,ddof=1, numeric_only=None) | unbiased std of mean\n",
    "s.std(...) | sample standard deviation\n",
    "s.var(...) | unbiased variance\n",
    "s.skew(...) | unbiased skew\n",
    "s.kurtosis(...) | unbiased kurtosis\n",
    "s.nunique(dropna=True) | count of unique items\n",
    "s.count(level=None) | count of non-missing items\n",
    "s.size | size\n",
    "s.is_unique |\n",
    "s.is_monotonic |\n",
    "s.is_monotonic_increasing |\n",
    "s.is_monotonic_decreasing |\n",
    "\n",
    "\n",
    "\n",
    "\n",
    "\n"
   ]
  },
  {
   "attachments": {},
   "cell_type": "markdown",
   "metadata": {},
   "source": [
    "# Excercises \n",
    "1. find count of non-missing entries of a series\n",
    "2. find the number of entries of a series\n",
    "3. find the number of unique entries of a series\n",
    "4. find the mean of a series\n",
    "5. find the max of a series\n",
    "6. use .agg method this time."
   ]
  },
  {
   "cell_type": "markdown",
   "metadata": {},
   "source": []
  }
 ],
 "metadata": {
  "kernelspec": {
   "display_name": "Python 3 (ipykernel)",
   "language": "python",
   "name": "python3"
  },
  "language_info": {
   "codemirror_mode": {
    "name": "ipython",
    "version": 3
   },
   "file_extension": ".py",
   "mimetype": "text/x-python",
   "name": "python",
   "nbconvert_exporter": "python",
   "pygments_lexer": "ipython3",
   "version": "3.10.6"
  },
  "orig_nbformat": 4
 },
 "nbformat": 4,
 "nbformat_minor": 2
}
