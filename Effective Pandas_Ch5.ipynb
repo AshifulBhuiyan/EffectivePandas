{
 "cells": [
  {
   "cell_type": "code",
   "execution_count": 2,
   "id": "c401df80",
   "metadata": {},
   "outputs": [],
   "source": [
    "import pandas as pd"
   ]
  },
  {
   "cell_type": "code",
   "execution_count": 3,
   "id": "5d9a8f5d",
   "metadata": {},
   "outputs": [],
   "source": [
    "s_0=pd.Series([1,2,3,4])"
   ]
  },
  {
   "cell_type": "code",
   "execution_count": 4,
   "id": "a23c7338",
   "metadata": {},
   "outputs": [
    {
     "data": {
      "text/plain": [
       "0    1\n",
       "1    2\n",
       "2    3\n",
       "3    4\n",
       "dtype: int64"
      ]
     },
     "execution_count": 4,
     "metadata": {},
     "output_type": "execute_result"
    }
   ],
   "source": [
    "s_0"
   ]
  },
  {
   "cell_type": "code",
   "execution_count": 11,
   "id": "9149a517",
   "metadata": {},
   "outputs": [],
   "source": [
    "url = 'https://github.com/mattharrison/datasets/raw/master/data/vehicles.csv.zip'"
   ]
  },
  {
   "cell_type": "code",
   "execution_count": 12,
   "id": "8f3025b7",
   "metadata": {},
   "outputs": [
    {
     "name": "stderr",
     "output_type": "stream",
     "text": [
      "/tmp/ipykernel_39078/773934961.py:1: DtypeWarning: Columns (68,70,71,72,73,74,76,79) have mixed types. Specify dtype option on import or set low_memory=False.\n",
      "  df=pd.read_csv(url)\n"
     ]
    }
   ],
   "source": [
    "df=pd.read_csv(url)"
   ]
  },
  {
   "cell_type": "code",
   "execution_count": 13,
   "id": "f789e5bf",
   "metadata": {},
   "outputs": [],
   "source": [
    "city_mpg = df.city08"
   ]
  },
  {
   "cell_type": "code",
   "execution_count": 14,
   "id": "64aea23b",
   "metadata": {},
   "outputs": [],
   "source": [
    "highway_mpg = df.highway08"
   ]
  },
  {
   "cell_type": "code",
   "execution_count": 15,
   "id": "964cdb3f",
   "metadata": {},
   "outputs": [
    {
     "data": {
      "text/plain": [
       "0        19\n",
       "1         9\n",
       "2        23\n",
       "3        10\n",
       "4        17\n",
       "         ..\n",
       "41139    19\n",
       "41140    20\n",
       "41141    18\n",
       "41142    18\n",
       "41143    16\n",
       "Name: city08, Length: 41144, dtype: int64"
      ]
     },
     "execution_count": 15,
     "metadata": {},
     "output_type": "execute_result"
    }
   ],
   "source": [
    "city_mpg"
   ]
  },
  {
   "cell_type": "code",
   "execution_count": 16,
   "id": "92ca71d7",
   "metadata": {},
   "outputs": [
    {
     "data": {
      "text/plain": [
       "0        25\n",
       "1        14\n",
       "2        33\n",
       "3        12\n",
       "4        23\n",
       "         ..\n",
       "41139    26\n",
       "41140    28\n",
       "41141    24\n",
       "41142    24\n",
       "41143    21\n",
       "Name: highway08, Length: 41144, dtype: int64"
      ]
     },
     "execution_count": 16,
     "metadata": {},
     "output_type": "execute_result"
    }
   ],
   "source": [
    "highway_mpg"
   ]
  },
  {
   "cell_type": "code",
   "execution_count": 17,
   "id": "69355276",
   "metadata": {},
   "outputs": [
    {
     "data": {
      "text/plain": [
       "412"
      ]
     },
     "execution_count": 17,
     "metadata": {},
     "output_type": "execute_result"
    }
   ],
   "source": [
    "len(dir(city_mpg))"
   ]
  },
  {
   "attachments": {},
   "cell_type": "markdown",
   "id": "4da1e18a",
   "metadata": {},
   "source": [
    "# Summary of some methods\n",
    "- Dunder methods: (`.__add__, .__iter__,`etc) provide many numeric operations, looping, attribute access and index access. For the numeric operations, they return `Series`.\n",
    "- Corresponding operator methods for numeric operations (`.add` method in addition to `.__add__`)\n",
    "- Aggregate methods and properties which reduce or aggregate values in a series down to a single scalar value. `.mean, .max, .sum`  and `.is_monotonic` property are all examples.\n",
    "- Conversion methods. Some start with a `.to_` and export the data to other formats\n",
    "- Manipulation methods such as `.sort_values`, `.drop_duplicates`, that return `Series` objects with the same index\n",
    "- indexing and accessor methods such as `.loc` and `.iloc`. They return `Series` or scalars.\n",
    "- String manipulation methods using `.str`\n",
    "- Date manipulation methods using `.dt`.\n",
    "- Plotting mthods using `.plot`.\n",
    "- Categorical manipulation methods using `.cat`.\n",
    "- Transformation methods such as `.unstack` and `.reset_index`, `.agg`, `.transform`. \n",
    "- Attributes such as `.index` and `.dtype`.\n",
    "- Other *private* attributes (around 130 of em)\n"
   ]
  },
  {
   "cell_type": "markdown",
   "id": "c6cd86a2",
   "metadata": {},
   "source": []
  }
 ],
 "metadata": {
  "kernelspec": {
   "display_name": "Python 3 (ipykernel)",
   "language": "python",
   "name": "python3"
  },
  "language_info": {
   "codemirror_mode": {
    "name": "ipython",
    "version": 3
   },
   "file_extension": ".py",
   "mimetype": "text/x-python",
   "name": "python",
   "nbconvert_exporter": "python",
   "pygments_lexer": "ipython3",
   "version": "3.10.6"
  }
 },
 "nbformat": 4,
 "nbformat_minor": 5
}
