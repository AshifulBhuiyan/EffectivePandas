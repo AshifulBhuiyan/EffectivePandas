{
 "cells": [
  {
   "cell_type": "code",
   "execution_count": 1,
   "metadata": {},
   "outputs": [
    {
     "name": "stderr",
     "output_type": "stream",
     "text": [
      "/tmp/ipykernel_15353/1830224744.py:4: DtypeWarning: Columns (68,70,71,72,73,74,76,79) have mixed types. Specify dtype option on import or set low_memory=False.\n",
      "  df=pd.read_csv(url)\n"
     ]
    }
   ],
   "source": [
    "import pandas as pd\n",
    "import numpy as np\n",
    "url = 'https://github.com/mattharrison/datasets/raw/master/data/vehicles.csv.zip'\n",
    "df=pd.read_csv(url)\n",
    "city_mpg = df.city08\n",
    "highway_mpg = df.highway08\n",
    "make = df.make"
   ]
  },
  {
   "attachments": {},
   "cell_type": "markdown",
   "metadata": {},
   "source": [
    "# Date and Time Manipulation\n"
   ]
  },
  {
   "cell_type": "code",
   "execution_count": 2,
   "metadata": {},
   "outputs": [],
   "source": [
    "col = pd . Series ([ '2015-03-08 08:00:00+00:00' ,\n",
    "'2015-03-08 08:30:00+00:00' ,\n",
    "'2015-03-08 09:00:00+00:00' ,\n",
    "'2015-03-08 09:30:00+00:00' ,\n",
    "'2015-11-01 06:30:00+00:00' ,\n",
    "'2015-11-01 07:00:00+00:00' ,\n",
    "'2015-11-01 07:30:00+00:00' ,\n",
    "'2015-11-01 08:00:00+00:00' ,\n",
    "'2015-11-01 08:30:00+00:00' ,\n",
    "'2015-11-01 08:00:00+00:00' ,\n",
    "'2015-11-01 08:30:00+00:00' ,\n",
    "'2015-11-01 09:00:00+00:00' ,\n",
    "'2015-11-01 09:30:00+00:00' ,\n",
    "'2015-11-01 10:00:00+00:00'])"
   ]
  },
  {
   "cell_type": "code",
   "execution_count": 4,
   "metadata": {},
   "outputs": [
    {
     "data": {
      "text/plain": [
       "0    2015-03-08 08:00:00+00:00\n",
       "1    2015-03-08 08:30:00+00:00\n",
       "2    2015-03-08 09:00:00+00:00\n",
       "3    2015-03-08 09:30:00+00:00\n",
       "4    2015-11-01 06:30:00+00:00\n",
       "5    2015-11-01 07:00:00+00:00\n",
       "6    2015-11-01 07:30:00+00:00\n",
       "7    2015-11-01 08:00:00+00:00\n",
       "8    2015-11-01 08:30:00+00:00\n",
       "9    2015-11-01 08:00:00+00:00\n",
       "10   2015-11-01 08:30:00+00:00\n",
       "11   2015-11-01 09:00:00+00:00\n",
       "12   2015-11-01 09:30:00+00:00\n",
       "13   2015-11-01 10:00:00+00:00\n",
       "dtype: datetime64[ns, UTC]"
      ]
     },
     "execution_count": 4,
     "metadata": {},
     "output_type": "execute_result"
    }
   ],
   "source": [
    "utc_s = pd.to_datetime(col, utc=True)\n",
    "utc_s"
   ]
  },
  {
   "cell_type": "code",
   "execution_count": 5,
   "metadata": {},
   "outputs": [
    {
     "data": {
      "text/plain": [
       "0    2015-03-08 01:00:00-07:00\n",
       "1    2015-03-08 01:30:00-07:00\n",
       "2    2015-03-08 03:00:00-06:00\n",
       "3    2015-03-08 03:30:00-06:00\n",
       "4    2015-11-01 00:30:00-06:00\n",
       "5    2015-11-01 01:00:00-06:00\n",
       "6    2015-11-01 01:30:00-06:00\n",
       "7    2015-11-01 01:00:00-07:00\n",
       "8    2015-11-01 01:30:00-07:00\n",
       "9    2015-11-01 01:00:00-07:00\n",
       "10   2015-11-01 01:30:00-07:00\n",
       "11   2015-11-01 02:00:00-07:00\n",
       "12   2015-11-01 02:30:00-07:00\n",
       "13   2015-11-01 03:00:00-07:00\n",
       "dtype: datetime64[ns, America/Denver]"
      ]
     },
     "execution_count": 5,
     "metadata": {},
     "output_type": "execute_result"
    }
   ],
   "source": [
    "utc_s.dt.tz_convert('America/Denver')"
   ]
  },
  {
   "cell_type": "code",
   "execution_count": 12,
   "metadata": {},
   "outputs": [],
   "source": [
    "s = pd.Series(['2015-03-08 01:00:00-07:00',\n",
    "               '2015-03-08 03:00:00-06:00'])\n",
    "               \n"
   ]
  },
  {
   "cell_type": "code",
   "execution_count": 13,
   "metadata": {},
   "outputs": [
    {
     "data": {
      "text/plain": [
       "0   2015-03-08 01:00:00-07:00\n",
       "1   2015-03-08 03:00:00-06:00\n",
       "dtype: datetime64[ns, America/Denver]"
      ]
     },
     "execution_count": 13,
     "metadata": {},
     "output_type": "execute_result"
    }
   ],
   "source": [
    "pd.to_datetime(s, utc=True).dt.tz_convert('America/Denver')"
   ]
  },
  {
   "attachments": {},
   "cell_type": "markdown",
   "metadata": {},
   "source": [
    "### 12.3 Loading Local Time Data\n",
    "- need date, offset and the timzone:"
   ]
  },
  {
   "cell_type": "code",
   "execution_count": 21,
   "metadata": {},
   "outputs": [],
   "source": [
    "time = pd.Series(['2015-03-08 01:00:00',\n",
    "                  '2015-03-08 01:30:00',\n",
    "                  '2015-03-08 02:00:00',\n",
    "                  '2015-03-08 02:30:00',\n",
    "                  '2015-03-08 03:00:00',\n",
    "                  '2015-03-08 02:00:00',\n",
    "                  '2015-03-08 02:30:00',\n",
    "                  '2015-03-08 03:00:00',\n",
    "                  '2015-03-08 03:30:00',\n",
    "                  '2015-11-01 00:30:00',\n",
    "                  '2015-11-01 01:00:00',\n",
    "                  '2015-11-01 01:30:00',\n",
    "                  '2015-11-01 02:00:00',\n",
    "                  '2015-11-01 02:30:00',\n",
    "                  '2015-11-01 01:00:00',\n",
    "                  '2015-11-01 01:30:00',\n",
    "                  '2015-11-01 02:00:00',\n",
    "                  '2015-11-01 02:30:00',\n",
    "                  '2015-11-01 03:00:00',\n",
    "                  '2015-11-01 03:30:00'])"
   ]
  },
  {
   "cell_type": "code",
   "execution_count": 22,
   "metadata": {},
   "outputs": [],
   "source": [
    "offset = pd.Series([-7, -7, -7, -7, -7, -6, -6, -6, -6, -6, -6, -6, -6, -6, \n",
    "                    -7, -7, -7, -7, -7, -7])"
   ]
  },
  {
   "attachments": {},
   "cell_type": "markdown",
   "metadata": {},
   "source": [
    "We want to apply the offset to the corresponding time. The mechanism in pandas is to use `.groupby` with `.transform` to do this.\n",
    "\n",
    "The basic idea is that we group all dates from one offset together and call `.dt.tz_localize` on them. We repeat this for each offset. Calling the `.transform` method allows us to work on a group and then return a result in the original length of the grouped object:"
   ]
  },
  {
   "cell_type": "code",
   "execution_count": 23,
   "metadata": {},
   "outputs": [
    {
     "data": {
      "text/plain": [
       "0    2015-03-07 18:00:07-07:00\n",
       "1    2015-03-07 18:30:07-07:00\n",
       "2    2015-03-07 19:00:07-07:00\n",
       "3    2015-03-07 19:30:07-07:00\n",
       "4    2015-03-07 20:00:07-07:00\n",
       "5    2015-03-07 19:00:06-07:00\n",
       "6    2015-03-07 19:30:06-07:00\n",
       "7    2015-03-07 20:00:06-07:00\n",
       "8    2015-03-07 20:30:06-07:00\n",
       "9    2015-10-31 18:30:06-06:00\n",
       "10   2015-10-31 19:00:06-06:00\n",
       "11   2015-10-31 19:30:06-06:00\n",
       "12   2015-10-31 20:00:06-06:00\n",
       "13   2015-10-31 20:30:06-06:00\n",
       "14   2015-10-31 19:00:07-06:00\n",
       "15   2015-10-31 19:30:07-06:00\n",
       "16   2015-10-31 20:00:07-06:00\n",
       "17   2015-10-31 20:30:07-06:00\n",
       "18   2015-10-31 21:00:07-06:00\n",
       "19   2015-10-31 21:30:07-06:00\n",
       "dtype: datetime64[ns, America/Denver]"
      ]
     },
     "execution_count": 23,
     "metadata": {},
     "output_type": "execute_result"
    }
   ],
   "source": [
    "(pd.to_datetime(time)\n",
    "    .groupby(offset)\n",
    "    .transform(lambda s: s.dt.tz_localize(s.name)\n",
    "                          .dt.tz_convert('America/Denver'))\n",
    "                       )"
   ]
  },
  {
   "attachments": {},
   "cell_type": "markdown",
   "metadata": {},
   "source": [
    "Note that this operation did not error out and appeared to run successfully. However, it you look closely, the offsets were incorrect and moved the minute by 7 or 6 minutes instead of the hours.\n",
    "\n",
    "We need to use different offsets, we want them to be `'-07:00'` and `'-06:00'` respectively:"
   ]
  },
  {
   "cell_type": "code",
   "execution_count": 24,
   "metadata": {},
   "outputs": [],
   "source": [
    "offset = offset.replace({-7:'-07:00', -6:'-06:00'})\n",
    "local =  (pd.to_datetime(time)\n",
    "    .groupby(offset)\n",
    "    .transform(lambda s: s.dt.tz_localize(s.name)\n",
    "                          .dt.tz_convert('America/Denver'))\n",
    "                       )"
   ]
  },
  {
   "cell_type": "code",
   "execution_count": 25,
   "metadata": {},
   "outputs": [
    {
     "data": {
      "text/plain": [
       "0    2015-03-08 01:00:00-07:00\n",
       "1    2015-03-08 01:30:00-07:00\n",
       "2    2015-03-08 03:00:00-06:00\n",
       "3    2015-03-08 03:30:00-06:00\n",
       "4    2015-03-08 04:00:00-06:00\n",
       "5    2015-03-08 01:00:00-07:00\n",
       "6    2015-03-08 01:30:00-07:00\n",
       "7    2015-03-08 03:00:00-06:00\n",
       "8    2015-03-08 03:30:00-06:00\n",
       "9    2015-11-01 00:30:00-06:00\n",
       "10   2015-11-01 01:00:00-06:00\n",
       "11   2015-11-01 01:30:00-06:00\n",
       "12   2015-11-01 01:00:00-07:00\n",
       "13   2015-11-01 01:30:00-07:00\n",
       "14   2015-11-01 01:00:00-07:00\n",
       "15   2015-11-01 01:30:00-07:00\n",
       "16   2015-11-01 02:00:00-07:00\n",
       "17   2015-11-01 02:30:00-07:00\n",
       "18   2015-11-01 03:00:00-07:00\n",
       "19   2015-11-01 03:30:00-07:00\n",
       "dtype: datetime64[ns, America/Denver]"
      ]
     },
     "execution_count": 25,
     "metadata": {},
     "output_type": "execute_result"
    }
   ],
   "source": [
    "local"
   ]
  },
  {
   "attachments": {},
   "cell_type": "markdown",
   "metadata": {},
   "source": [
    "### 12.4 Converting Local time to UTC\n",
    "- if you have a series with local time info (stored as `datetime64[ns]` and not a string), you can use `.dt.tz_convert` method to change it to UTC time:"
   ]
  },
  {
   "cell_type": "code",
   "execution_count": 26,
   "metadata": {},
   "outputs": [
    {
     "data": {
      "text/plain": [
       "0    2015-03-08 08:00:00+00:00\n",
       "1    2015-03-08 08:30:00+00:00\n",
       "2    2015-03-08 09:00:00+00:00\n",
       "3    2015-03-08 09:30:00+00:00\n",
       "4    2015-03-08 10:00:00+00:00\n",
       "5    2015-03-08 08:00:00+00:00\n",
       "6    2015-03-08 08:30:00+00:00\n",
       "7    2015-03-08 09:00:00+00:00\n",
       "8    2015-03-08 09:30:00+00:00\n",
       "9    2015-11-01 06:30:00+00:00\n",
       "10   2015-11-01 07:00:00+00:00\n",
       "11   2015-11-01 07:30:00+00:00\n",
       "12   2015-11-01 08:00:00+00:00\n",
       "13   2015-11-01 08:30:00+00:00\n",
       "14   2015-11-01 08:00:00+00:00\n",
       "15   2015-11-01 08:30:00+00:00\n",
       "16   2015-11-01 09:00:00+00:00\n",
       "17   2015-11-01 09:30:00+00:00\n",
       "18   2015-11-01 10:00:00+00:00\n",
       "19   2015-11-01 10:30:00+00:00\n",
       "dtype: datetime64[ns, UTC]"
      ]
     },
     "execution_count": 26,
     "metadata": {},
     "output_type": "execute_result"
    }
   ],
   "source": [
    "local.dt.tz_convert('UTC') #wtf is this book doing, how is this correct"
   ]
  },
  {
   "attachments": {},
   "cell_type": "markdown",
   "metadata": {},
   "source": [
    "### 12.5 Converting to Epochs\n",
    "From UTC or local time to seconds past UNIX epoch:"
   ]
  },
  {
   "cell_type": "code",
   "execution_count": 29,
   "metadata": {},
   "outputs": [
    {
     "data": {
      "text/plain": [
       "0     1425801600\n",
       "1     1425803400\n",
       "2     1425805200\n",
       "3     1425807000\n",
       "4     1425808800\n",
       "5     1425801600\n",
       "6     1425803400\n",
       "7     1425805200\n",
       "8     1425807000\n",
       "9     1446359400\n",
       "10    1446361200\n",
       "11    1446363000\n",
       "12    1446364800\n",
       "13    1446366600\n",
       "14    1446364800\n",
       "15    1446366600\n",
       "16    1446368400\n",
       "17    1446370200\n",
       "18    1446372000\n",
       "19    1446373800\n",
       "dtype: int64"
      ]
     },
     "execution_count": 29,
     "metadata": {},
     "output_type": "execute_result"
    }
   ],
   "source": [
    "secs = local.view(int).floordiv(1e9).astype(int)\n",
    "secs"
   ]
  },
  {
   "cell_type": "code",
   "execution_count": 30,
   "metadata": {},
   "outputs": [
    {
     "data": {
      "text/plain": [
       "0    2015-03-08 08:00:00+00:00\n",
       "1    2015-03-08 08:30:00+00:00\n",
       "2    2015-03-08 09:00:00+00:00\n",
       "3    2015-03-08 09:30:00+00:00\n",
       "4    2015-03-08 10:00:00+00:00\n",
       "5    2015-03-08 08:00:00+00:00\n",
       "6    2015-03-08 08:30:00+00:00\n",
       "7    2015-03-08 09:00:00+00:00\n",
       "8    2015-03-08 09:30:00+00:00\n",
       "9    2015-11-01 06:30:00+00:00\n",
       "10   2015-11-01 07:00:00+00:00\n",
       "11   2015-11-01 07:30:00+00:00\n",
       "12   2015-11-01 08:00:00+00:00\n",
       "13   2015-11-01 08:30:00+00:00\n",
       "14   2015-11-01 08:00:00+00:00\n",
       "15   2015-11-01 08:30:00+00:00\n",
       "16   2015-11-01 09:00:00+00:00\n",
       "17   2015-11-01 09:30:00+00:00\n",
       "18   2015-11-01 10:00:00+00:00\n",
       "19   2015-11-01 10:30:00+00:00\n",
       "dtype: datetime64[ns, UTC]"
      ]
     },
     "execution_count": 30,
     "metadata": {},
     "output_type": "execute_result"
    }
   ],
   "source": [
    "#to load epoch info into UTC:\n",
    "(pd.to_datetime(secs, unit='s')\n",
    " .dt.tz_localize('UTC'))"
   ]
  },
  {
   "attachments": {},
   "cell_type": "markdown",
   "metadata": {},
   "source": [
    "### Manipulating Dates\n"
   ]
  },
  {
   "cell_type": "code",
   "execution_count": 34,
   "metadata": {},
   "outputs": [],
   "source": [
    "url = 'https://github.com/mattharrison/datasets/raw/master/data/alta-noaa-1980-2019.csv'\n",
    "alta_df = pd.read_csv(url)"
   ]
  },
  {
   "attachments": {},
   "cell_type": "markdown",
   "metadata": {},
   "source": [
    " - when you read CSV, does not convert columns to dates by default.\n",
    " - can use `parse_dates` to try and convert dates when reading CSV, but `to_datetime` is more powerful\n",
    " "
   ]
  },
  {
   "cell_type": "code",
   "execution_count": 35,
   "metadata": {},
   "outputs": [
    {
     "data": {
      "text/plain": [
       "0       1980-01-01\n",
       "1       1980-01-02\n",
       "2       1980-01-03\n",
       "3       1980-01-04\n",
       "4       1980-01-05\n",
       "           ...    \n",
       "14155   2019-09-03\n",
       "14156   2019-09-04\n",
       "14157   2019-09-05\n",
       "14158   2019-09-06\n",
       "14159   2019-09-07\n",
       "Name: DATE, Length: 14160, dtype: datetime64[ns]"
      ]
     },
     "execution_count": 35,
     "metadata": {},
     "output_type": "execute_result"
    }
   ],
   "source": [
    "dates = pd.to_datetime(alta_df.DATE)\n",
    "dates"
   ]
  },
  {
   "attachments": {},
   "cell_type": "markdown",
   "metadata": {},
   "source": [
    "When we have type of date as `datetime64[ns]`, we can do a lotta stuff\n",
    "- adds `.dt` attribute to the series, that allows various date manipulations\n",
    "\n",
    "To get weekdays in Spanish, specify appropriate locale:"
   ]
  },
  {
   "cell_type": "code",
   "execution_count": 38,
   "metadata": {},
   "outputs": [
    {
     "ename": "Error",
     "evalue": "unsupported locale setting",
     "output_type": "error",
     "traceback": [
      "\u001b[0;31m---------------------------------------------------------------------------\u001b[0m",
      "\u001b[0;31mError\u001b[0m                                     Traceback (most recent call last)",
      "Cell \u001b[0;32mIn[38], line 1\u001b[0m\n\u001b[0;32m----> 1\u001b[0m dates\u001b[39m.\u001b[39;49mdt\u001b[39m.\u001b[39;49mday_name(\u001b[39m'\u001b[39;49m\u001b[39mes_ES\u001b[39;49m\u001b[39m'\u001b[39;49m)\n",
      "File \u001b[0;32m~/.local/lib/python3.10/site-packages/pandas/core/accessor.py:112\u001b[0m, in \u001b[0;36mPandasDelegate._add_delegate_accessors.<locals>._create_delegator_method.<locals>.f\u001b[0;34m(self, *args, **kwargs)\u001b[0m\n\u001b[1;32m    111\u001b[0m \u001b[39mdef\u001b[39;00m \u001b[39mf\u001b[39m(\u001b[39mself\u001b[39m, \u001b[39m*\u001b[39margs, \u001b[39m*\u001b[39m\u001b[39m*\u001b[39mkwargs):\n\u001b[0;32m--> 112\u001b[0m     \u001b[39mreturn\u001b[39;00m \u001b[39mself\u001b[39;49m\u001b[39m.\u001b[39;49m_delegate_method(name, \u001b[39m*\u001b[39;49margs, \u001b[39m*\u001b[39;49m\u001b[39m*\u001b[39;49mkwargs)\n",
      "File \u001b[0;32m~/.local/lib/python3.10/site-packages/pandas/core/indexes/accessors.py:128\u001b[0m, in \u001b[0;36mProperties._delegate_method\u001b[0;34m(self, name, *args, **kwargs)\u001b[0m\n\u001b[1;32m    125\u001b[0m values \u001b[39m=\u001b[39m \u001b[39mself\u001b[39m\u001b[39m.\u001b[39m_get_values()\n\u001b[1;32m    127\u001b[0m method \u001b[39m=\u001b[39m \u001b[39mgetattr\u001b[39m(values, name)\n\u001b[0;32m--> 128\u001b[0m result \u001b[39m=\u001b[39m method(\u001b[39m*\u001b[39;49margs, \u001b[39m*\u001b[39;49m\u001b[39m*\u001b[39;49mkwargs)\n\u001b[1;32m    130\u001b[0m \u001b[39mif\u001b[39;00m \u001b[39mnot\u001b[39;00m is_list_like(result):\n\u001b[1;32m    131\u001b[0m     \u001b[39mreturn\u001b[39;00m result\n",
      "File \u001b[0;32m~/.local/lib/python3.10/site-packages/pandas/core/indexes/extension.py:98\u001b[0m, in \u001b[0;36m_inherit_from_data.<locals>.method\u001b[0;34m(self, *args, **kwargs)\u001b[0m\n\u001b[1;32m     96\u001b[0m \u001b[39mif\u001b[39;00m \u001b[39m\"\u001b[39m\u001b[39minplace\u001b[39m\u001b[39m\"\u001b[39m \u001b[39min\u001b[39;00m kwargs:\n\u001b[1;32m     97\u001b[0m     \u001b[39mraise\u001b[39;00m \u001b[39mValueError\u001b[39;00m(\u001b[39mf\u001b[39m\u001b[39m\"\u001b[39m\u001b[39mcannot use inplace with \u001b[39m\u001b[39m{\u001b[39;00m\u001b[39mtype\u001b[39m(\u001b[39mself\u001b[39m)\u001b[39m.\u001b[39m\u001b[39m__name__\u001b[39m\u001b[39m}\u001b[39;00m\u001b[39m\"\u001b[39m)\n\u001b[0;32m---> 98\u001b[0m result \u001b[39m=\u001b[39m attr(\u001b[39mself\u001b[39;49m\u001b[39m.\u001b[39;49m_data, \u001b[39m*\u001b[39;49margs, \u001b[39m*\u001b[39;49m\u001b[39m*\u001b[39;49mkwargs)\n\u001b[1;32m     99\u001b[0m \u001b[39mif\u001b[39;00m wrap:\n\u001b[1;32m    100\u001b[0m     \u001b[39mif\u001b[39;00m \u001b[39misinstance\u001b[39m(result, \u001b[39mtype\u001b[39m(\u001b[39mself\u001b[39m\u001b[39m.\u001b[39m_data)):\n",
      "File \u001b[0;32m~/.local/lib/python3.10/site-packages/pandas/core/arrays/datetimes.py:1303\u001b[0m, in \u001b[0;36mDatetimeArray.day_name\u001b[0;34m(self, locale)\u001b[0m\n\u001b[1;32m   1253\u001b[0m \u001b[39m\u001b[39m\u001b[39m\"\"\"\u001b[39;00m\n\u001b[1;32m   1254\u001b[0m \u001b[39mReturn the day names with specified locale.\u001b[39;00m\n\u001b[1;32m   1255\u001b[0m \n\u001b[0;32m   (...)\u001b[0m\n\u001b[1;32m   1299\u001b[0m \u001b[39mIndex(['Segunda', 'Terça', 'Quarta'], dtype='object')\u001b[39;00m\n\u001b[1;32m   1300\u001b[0m \u001b[39m\"\"\"\u001b[39;00m\n\u001b[1;32m   1301\u001b[0m values \u001b[39m=\u001b[39m \u001b[39mself\u001b[39m\u001b[39m.\u001b[39m_local_timestamps()\n\u001b[0;32m-> 1303\u001b[0m result \u001b[39m=\u001b[39m fields\u001b[39m.\u001b[39;49mget_date_name_field(\n\u001b[1;32m   1304\u001b[0m     values, \u001b[39m\"\u001b[39;49m\u001b[39mday_name\u001b[39;49m\u001b[39m\"\u001b[39;49m, locale\u001b[39m=\u001b[39;49mlocale, reso\u001b[39m=\u001b[39;49m\u001b[39mself\u001b[39;49m\u001b[39m.\u001b[39;49m_creso\n\u001b[1;32m   1305\u001b[0m )\n\u001b[1;32m   1306\u001b[0m result \u001b[39m=\u001b[39m \u001b[39mself\u001b[39m\u001b[39m.\u001b[39m_maybe_mask_results(result, fill_value\u001b[39m=\u001b[39m\u001b[39mNone\u001b[39;00m)\n\u001b[1;32m   1307\u001b[0m \u001b[39mreturn\u001b[39;00m result\n",
      "File \u001b[0;32m~/.local/lib/python3.10/site-packages/pandas/_libs/tslibs/fields.pyx:161\u001b[0m, in \u001b[0;36mpandas._libs.tslibs.fields.get_date_name_field\u001b[0;34m()\u001b[0m\n",
      "File \u001b[0;32m~/.local/lib/python3.10/site-packages/pandas/_libs/tslibs/fields.pyx:623\u001b[0m, in \u001b[0;36mpandas._libs.tslibs.fields._get_locale_names\u001b[0;34m()\u001b[0m\n",
      "File \u001b[0;32m~/Python/April/.conda/lib/python3.10/contextlib.py:135\u001b[0m, in \u001b[0;36m_GeneratorContextManager.__enter__\u001b[0;34m(self)\u001b[0m\n\u001b[1;32m    133\u001b[0m \u001b[39mdel\u001b[39;00m \u001b[39mself\u001b[39m\u001b[39m.\u001b[39margs, \u001b[39mself\u001b[39m\u001b[39m.\u001b[39mkwds, \u001b[39mself\u001b[39m\u001b[39m.\u001b[39mfunc\n\u001b[1;32m    134\u001b[0m \u001b[39mtry\u001b[39;00m:\n\u001b[0;32m--> 135\u001b[0m     \u001b[39mreturn\u001b[39;00m \u001b[39mnext\u001b[39;49m(\u001b[39mself\u001b[39;49m\u001b[39m.\u001b[39;49mgen)\n\u001b[1;32m    136\u001b[0m \u001b[39mexcept\u001b[39;00m \u001b[39mStopIteration\u001b[39;00m:\n\u001b[1;32m    137\u001b[0m     \u001b[39mraise\u001b[39;00m \u001b[39mRuntimeError\u001b[39;00m(\u001b[39m\"\u001b[39m\u001b[39mgenerator didn\u001b[39m\u001b[39m'\u001b[39m\u001b[39mt yield\u001b[39m\u001b[39m\"\u001b[39m) \u001b[39mfrom\u001b[39;00m \u001b[39mNone\u001b[39;00m\n",
      "File \u001b[0;32m~/.local/lib/python3.10/site-packages/pandas/_config/localization.py:44\u001b[0m, in \u001b[0;36mset_locale\u001b[0;34m(new_locale, lc_var)\u001b[0m\n\u001b[1;32m     41\u001b[0m current_locale \u001b[39m=\u001b[39m locale\u001b[39m.\u001b[39msetlocale(lc_var)\n\u001b[1;32m     43\u001b[0m \u001b[39mtry\u001b[39;00m:\n\u001b[0;32m---> 44\u001b[0m     locale\u001b[39m.\u001b[39;49msetlocale(lc_var, new_locale)\n\u001b[1;32m     45\u001b[0m     normalized_code, normalized_encoding \u001b[39m=\u001b[39m locale\u001b[39m.\u001b[39mgetlocale()\n\u001b[1;32m     46\u001b[0m     \u001b[39mif\u001b[39;00m normalized_code \u001b[39mis\u001b[39;00m \u001b[39mnot\u001b[39;00m \u001b[39mNone\u001b[39;00m \u001b[39mand\u001b[39;00m normalized_encoding \u001b[39mis\u001b[39;00m \u001b[39mnot\u001b[39;00m \u001b[39mNone\u001b[39;00m:\n",
      "File \u001b[0;32m~/Python/April/.conda/lib/python3.10/locale.py:620\u001b[0m, in \u001b[0;36msetlocale\u001b[0;34m(category, locale)\u001b[0m\n\u001b[1;32m    617\u001b[0m \u001b[39mif\u001b[39;00m locale \u001b[39mand\u001b[39;00m \u001b[39mnot\u001b[39;00m \u001b[39misinstance\u001b[39m(locale, _builtin_str):\n\u001b[1;32m    618\u001b[0m     \u001b[39m# convert to string\u001b[39;00m\n\u001b[1;32m    619\u001b[0m     locale \u001b[39m=\u001b[39m normalize(_build_localename(locale))\n\u001b[0;32m--> 620\u001b[0m \u001b[39mreturn\u001b[39;00m _setlocale(category, locale)\n",
      "\u001b[0;31mError\u001b[0m: unsupported locale setting"
     ]
    }
   ],
   "source": [
    "dates.dt.day_name('es_ES') #don't have es ES locale instaleld xd"
   ]
  },
  {
   "cell_type": "code",
   "execution_count": 40,
   "metadata": {},
   "outputs": [
    {
     "data": {
      "text/plain": [
       "0         True\n",
       "1        False\n",
       "2        False\n",
       "3        False\n",
       "4        False\n",
       "         ...  \n",
       "14155    False\n",
       "14156    False\n",
       "14157    False\n",
       "14158    False\n",
       "14159    False\n",
       "Name: DATE, Length: 14160, dtype: bool"
      ]
     },
     "execution_count": 40,
     "metadata": {},
     "output_type": "execute_result"
    }
   ],
   "source": [
    "dates.dt.is_month_start"
   ]
  },
  {
   "cell_type": "code",
   "execution_count": 41,
   "metadata": {},
   "outputs": [
    {
     "data": {
      "text/plain": [
       "0        01/01/80\n",
       "1        02/01/80\n",
       "2        03/01/80\n",
       "3        04/01/80\n",
       "4        05/01/80\n",
       "           ...   \n",
       "14155    03/09/19\n",
       "14156    04/09/19\n",
       "14157    05/09/19\n",
       "14158    06/09/19\n",
       "14159    07/09/19\n",
       "Name: DATE, Length: 14160, dtype: object"
      ]
     },
     "execution_count": 41,
     "metadata": {},
     "output_type": "execute_result"
    }
   ],
   "source": [
    "dates.dt.strftime('%d/%m/%y')"
   ]
  },
  {
   "cell_type": "code",
   "execution_count": null,
   "metadata": {},
   "outputs": [],
   "source": []
  }
 ],
 "metadata": {
  "kernelspec": {
   "display_name": "Python 3",
   "language": "python",
   "name": "python3"
  },
  "language_info": {
   "codemirror_mode": {
    "name": "ipython",
    "version": 3
   },
   "file_extension": ".py",
   "mimetype": "text/x-python",
   "name": "python",
   "nbconvert_exporter": "python",
   "pygments_lexer": "ipython3",
   "version": "3.10.10"
  },
  "orig_nbformat": 4
 },
 "nbformat": 4,
 "nbformat_minor": 2
}
